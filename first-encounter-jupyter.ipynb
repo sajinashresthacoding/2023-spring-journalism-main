{
 "cells": [
  {
   "cell_type": "markdown",
   "id": "9e42828c",
   "metadata": {},
   "source": [
    "# Working with iPython notebooks\n",
    "\n",
    "### code vs. markup\n",
    "\n",
    "Let's explore these basic concepts in this notebook"
   ]
  },
  {
   "cell_type": "code",
   "execution_count": 3,
   "id": "b7b7ee2f",
   "metadata": {},
   "outputs": [
    {
     "name": "stdout",
     "output_type": "stream",
     "text": [
      "Hello World\n"
     ]
    }
   ],
   "source": [
    "# Traditional kickoff for learning to code\n",
    "print(\"Hello World\")"
   ]
  },
  {
   "cell_type": "code",
   "execution_count": 4,
   "id": "ed6f88df",
   "metadata": {},
   "outputs": [
    {
     "name": "stdout",
     "output_type": "stream",
     "text": [
      "Python 3.9.13\r\n"
     ]
    }
   ],
   "source": [
    "## check what version of Python I have on my computer\n",
    "!python --version"
   ]
  },
  {
   "cell_type": "code",
   "execution_count": 6,
   "id": "50b28ec4",
   "metadata": {},
   "outputs": [
    {
     "data": {
      "text/plain": [
       "4"
      ]
     },
     "execution_count": 6,
     "metadata": {},
     "output_type": "execute_result"
    }
   ],
   "source": [
    "## validating addition, basically showing that python can do simple math \n",
    "2 + 2"
   ]
  },
  {
   "cell_type": "code",
   "execution_count": 7,
   "id": "5a252f63",
   "metadata": {},
   "outputs": [
    {
     "data": {
      "text/plain": [
       "5.0"
      ]
     },
     "execution_count": 7,
     "metadata": {},
     "output_type": "execute_result"
    }
   ],
   "source": [
    "## validating simple division\n",
    "25 / 5"
   ]
  },
  {
   "cell_type": "code",
   "execution_count": 8,
   "id": "ba4f95da",
   "metadata": {},
   "outputs": [
    {
     "data": {
      "text/plain": [
       "1"
      ]
     },
     "execution_count": 8,
     "metadata": {},
     "output_type": "execute_result"
    }
   ],
   "source": [
    "## modulus \n",
    "\n",
    "25 % 2"
   ]
  },
  {
   "cell_type": "markdown",
   "id": "45df3cea",
   "metadata": {},
   "source": [
    "## List of favorite fruits\n",
    "\n",
    "Here are Sajina's favorite fruits:\n",
    "\n",
    "* Apples\n",
    "* Strawberries\n",
    "* Oranges\n",
    "\n",
    "## Source of data:\n",
    "I found this data on the <a href=\"https://www.census.gov\"> US Census site. </a>\n",
    "\n",
    "Another way would be to provide the .[link like this]. (https://www.census.gov)"
   ]
  },
  {
   "cell_type": "code",
   "execution_count": null,
   "id": "b054c57a",
   "metadata": {},
   "outputs": [],
   "source": []
  }
 ],
 "metadata": {
  "kernelspec": {
   "display_name": "Python 3 (ipykernel)",
   "language": "python",
   "name": "python3"
  },
  "language_info": {
   "codemirror_mode": {
    "name": "ipython",
    "version": 3
   },
   "file_extension": ".py",
   "mimetype": "text/x-python",
   "name": "python",
   "nbconvert_exporter": "python",
   "pygments_lexer": "ipython3",
   "version": "3.9.13"
  }
 },
 "nbformat": 4,
 "nbformat_minor": 5
}
